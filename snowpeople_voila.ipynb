{
 "cells": [
  {
   "cell_type": "code",
   "execution_count": null,
   "metadata": {},
   "outputs": [],
   "source": [
    "from fastai2.vision.all import *\n",
    "from fastai2.vision.widgets import *"
   ]
  },
  {
   "cell_type": "code",
   "execution_count": 1,
   "metadata": {},
   "outputs": [
    {
     "name": "stdout",
     "output_type": "stream",
     "text": [
      "Collecting voila\n",
      "  Downloading voila-0.1.21-py3-none-any.whl (5.9 MB)\n",
      "\u001b[K     |████████████████████████████████| 5.9 MB 208 kB/s eta 0:00:01\n",
      "\u001b[?25hCollecting async-generator\n",
      "  Downloading async_generator-1.10-py3-none-any.whl (18 kB)\n",
      "Requirement already satisfied: nbconvert<6,>=5.5.0 in /Users/m/.pyenv/versions/3.8.1/envs/jupyter3/lib/python3.8/site-packages (from voila) (5.6.1)\n",
      "Collecting jupyterlab-pygments<0.2,>=0.1.0\n",
      "  Downloading jupyterlab_pygments-0.1.0-py2.py3-none-any.whl (4.7 kB)\n",
      "Collecting jupyter-server<0.2.0,>=0.1.0\n",
      "  Downloading jupyter_server-0.1.1-py2.py3-none-any.whl (183 kB)\n",
      "\u001b[K     |████████████████████████████████| 183 kB 659 kB/s eta 0:00:01\n",
      "\u001b[?25hRequirement already satisfied: pygments<3,>=2.4.1 in /Users/m/.pyenv/versions/3.8.1/envs/jupyter3/lib/python3.8/site-packages (from voila) (2.5.2)\n",
      "Requirement already satisfied: testpath in /Users/m/.pyenv/versions/3.8.1/envs/jupyter3/lib/python3.8/site-packages (from nbconvert<6,>=5.5.0->voila) (0.4.4)\n",
      "Requirement already satisfied: jupyter-core in /Users/m/.pyenv/versions/3.8.1/envs/jupyter3/lib/python3.8/site-packages (from nbconvert<6,>=5.5.0->voila) (4.6.3)\n",
      "Requirement already satisfied: traitlets>=4.2 in /Users/m/.pyenv/versions/3.8.1/envs/jupyter3/lib/python3.8/site-packages (from nbconvert<6,>=5.5.0->voila) (4.3.3)\n",
      "Requirement already satisfied: defusedxml in /Users/m/.pyenv/versions/3.8.1/envs/jupyter3/lib/python3.8/site-packages (from nbconvert<6,>=5.5.0->voila) (0.6.0)\n",
      "Requirement already satisfied: nbformat>=4.4 in /Users/m/.pyenv/versions/3.8.1/envs/jupyter3/lib/python3.8/site-packages (from nbconvert<6,>=5.5.0->voila) (5.0.4)\n",
      "Requirement already satisfied: mistune<2,>=0.8.1 in /Users/m/.pyenv/versions/3.8.1/envs/jupyter3/lib/python3.8/site-packages (from nbconvert<6,>=5.5.0->voila) (0.8.4)\n",
      "Requirement already satisfied: entrypoints>=0.2.2 in /Users/m/.pyenv/versions/3.8.1/envs/jupyter3/lib/python3.8/site-packages (from nbconvert<6,>=5.5.0->voila) (0.3)\n",
      "Requirement already satisfied: pandocfilters>=1.4.1 in /Users/m/.pyenv/versions/3.8.1/envs/jupyter3/lib/python3.8/site-packages (from nbconvert<6,>=5.5.0->voila) (1.4.2)\n",
      "Requirement already satisfied: jinja2>=2.4 in /Users/m/.pyenv/versions/3.8.1/envs/jupyter3/lib/python3.8/site-packages (from nbconvert<6,>=5.5.0->voila) (2.11.1)\n",
      "Requirement already satisfied: bleach in /Users/m/.pyenv/versions/3.8.1/envs/jupyter3/lib/python3.8/site-packages (from nbconvert<6,>=5.5.0->voila) (3.1.1)\n",
      "Requirement already satisfied: prometheus-client in /Users/m/.pyenv/versions/3.8.1/envs/jupyter3/lib/python3.8/site-packages (from jupyter-server<0.2.0,>=0.1.0->voila) (0.7.1)\n",
      "Requirement already satisfied: ipykernel in /Users/m/.pyenv/versions/3.8.1/envs/jupyter3/lib/python3.8/site-packages (from jupyter-server<0.2.0,>=0.1.0->voila) (5.1.4)\n",
      "Requirement already satisfied: terminado>=0.8.1 in /Users/m/.pyenv/versions/3.8.1/envs/jupyter3/lib/python3.8/site-packages (from jupyter-server<0.2.0,>=0.1.0->voila) (0.8.3)\n",
      "Requirement already satisfied: Send2Trash in /Users/m/.pyenv/versions/3.8.1/envs/jupyter3/lib/python3.8/site-packages (from jupyter-server<0.2.0,>=0.1.0->voila) (1.5.0)\n",
      "Requirement already satisfied: pyzmq>=17 in /Users/m/.pyenv/versions/3.8.1/envs/jupyter3/lib/python3.8/site-packages (from jupyter-server<0.2.0,>=0.1.0->voila) (18.1.1)\n",
      "Requirement already satisfied: ipython-genutils in /Users/m/.pyenv/versions/3.8.1/envs/jupyter3/lib/python3.8/site-packages (from jupyter-server<0.2.0,>=0.1.0->voila) (0.2.0)\n",
      "Requirement already satisfied: jupyter-client>=5.3.1 in /Users/m/.pyenv/versions/3.8.1/envs/jupyter3/lib/python3.8/site-packages (from jupyter-server<0.2.0,>=0.1.0->voila) (6.0.0)\n",
      "Requirement already satisfied: tornado>=4 in /Users/m/.pyenv/versions/3.8.1/envs/jupyter3/lib/python3.8/site-packages (from jupyter-server<0.2.0,>=0.1.0->voila) (6.0.3)\n",
      "Requirement already satisfied: six in /Users/m/.pyenv/versions/3.8.1/envs/jupyter3/lib/python3.8/site-packages (from traitlets>=4.2->nbconvert<6,>=5.5.0->voila) (1.14.0)\n",
      "Requirement already satisfied: decorator in /Users/m/.pyenv/versions/3.8.1/envs/jupyter3/lib/python3.8/site-packages (from traitlets>=4.2->nbconvert<6,>=5.5.0->voila) (4.4.1)\n",
      "Requirement already satisfied: jsonschema!=2.5.0,>=2.4 in /Users/m/.pyenv/versions/3.8.1/envs/jupyter3/lib/python3.8/site-packages (from nbformat>=4.4->nbconvert<6,>=5.5.0->voila) (3.2.0)\n",
      "Requirement already satisfied: MarkupSafe>=0.23 in /Users/m/.pyenv/versions/3.8.1/envs/jupyter3/lib/python3.8/site-packages (from jinja2>=2.4->nbconvert<6,>=5.5.0->voila) (1.1.1)\n",
      "Requirement already satisfied: webencodings in /Users/m/.pyenv/versions/3.8.1/envs/jupyter3/lib/python3.8/site-packages (from bleach->nbconvert<6,>=5.5.0->voila) (0.5.1)\n",
      "Requirement already satisfied: ipython>=5.0.0 in /Users/m/.pyenv/versions/3.8.1/envs/jupyter3/lib/python3.8/site-packages (from ipykernel->jupyter-server<0.2.0,>=0.1.0->voila) (7.12.0)\n",
      "Requirement already satisfied: appnope; platform_system == \"Darwin\" in /Users/m/.pyenv/versions/3.8.1/envs/jupyter3/lib/python3.8/site-packages (from ipykernel->jupyter-server<0.2.0,>=0.1.0->voila) (0.1.0)\n",
      "Requirement already satisfied: ptyprocess; os_name != \"nt\" in /Users/m/.pyenv/versions/3.8.1/envs/jupyter3/lib/python3.8/site-packages (from terminado>=0.8.1->jupyter-server<0.2.0,>=0.1.0->voila) (0.6.0)\n",
      "Requirement already satisfied: python-dateutil>=2.1 in /Users/m/.pyenv/versions/3.8.1/envs/jupyter3/lib/python3.8/site-packages (from jupyter-client>=5.3.1->jupyter-server<0.2.0,>=0.1.0->voila) (2.8.1)\n",
      "Requirement already satisfied: pyrsistent>=0.14.0 in /Users/m/.pyenv/versions/3.8.1/envs/jupyter3/lib/python3.8/site-packages (from jsonschema!=2.5.0,>=2.4->nbformat>=4.4->nbconvert<6,>=5.5.0->voila) (0.15.7)\n",
      "Requirement already satisfied: setuptools in /Users/m/.pyenv/versions/3.8.1/envs/jupyter3/lib/python3.8/site-packages (from jsonschema!=2.5.0,>=2.4->nbformat>=4.4->nbconvert<6,>=5.5.0->voila) (41.2.0)\n",
      "Requirement already satisfied: attrs>=17.4.0 in /Users/m/.pyenv/versions/3.8.1/envs/jupyter3/lib/python3.8/site-packages (from jsonschema!=2.5.0,>=2.4->nbformat>=4.4->nbconvert<6,>=5.5.0->voila) (19.3.0)\n",
      "Requirement already satisfied: backcall in /Users/m/.pyenv/versions/3.8.1/envs/jupyter3/lib/python3.8/site-packages (from ipython>=5.0.0->ipykernel->jupyter-server<0.2.0,>=0.1.0->voila) (0.1.0)\n",
      "Requirement already satisfied: prompt-toolkit!=3.0.0,!=3.0.1,<3.1.0,>=2.0.0 in /Users/m/.pyenv/versions/3.8.1/envs/jupyter3/lib/python3.8/site-packages (from ipython>=5.0.0->ipykernel->jupyter-server<0.2.0,>=0.1.0->voila) (3.0.3)\n",
      "Requirement already satisfied: pexpect; sys_platform != \"win32\" in /Users/m/.pyenv/versions/3.8.1/envs/jupyter3/lib/python3.8/site-packages (from ipython>=5.0.0->ipykernel->jupyter-server<0.2.0,>=0.1.0->voila) (4.8.0)\n",
      "Requirement already satisfied: jedi>=0.10 in /Users/m/.pyenv/versions/3.8.1/envs/jupyter3/lib/python3.8/site-packages (from ipython>=5.0.0->ipykernel->jupyter-server<0.2.0,>=0.1.0->voila) (0.16.0)\n",
      "Requirement already satisfied: pickleshare in /Users/m/.pyenv/versions/3.8.1/envs/jupyter3/lib/python3.8/site-packages (from ipython>=5.0.0->ipykernel->jupyter-server<0.2.0,>=0.1.0->voila) (0.7.5)\n",
      "Requirement already satisfied: wcwidth in /Users/m/.pyenv/versions/3.8.1/envs/jupyter3/lib/python3.8/site-packages (from prompt-toolkit!=3.0.0,!=3.0.1,<3.1.0,>=2.0.0->ipython>=5.0.0->ipykernel->jupyter-server<0.2.0,>=0.1.0->voila) (0.1.8)\n",
      "Requirement already satisfied: parso>=0.5.2 in /Users/m/.pyenv/versions/3.8.1/envs/jupyter3/lib/python3.8/site-packages (from jedi>=0.10->ipython>=5.0.0->ipykernel->jupyter-server<0.2.0,>=0.1.0->voila) (0.6.1)\n",
      "Installing collected packages: async-generator, jupyterlab-pygments, jupyter-server, voila\n",
      "Successfully installed async-generator-1.10 jupyter-server-0.1.1 jupyterlab-pygments-0.1.0 voila-0.1.21\n",
      "Enabling: voila\n",
      "- Writing config: /Users/m/.pyenv/versions/3.8.1/envs/jupyter3/etc/jupyter\n",
      "    - Validating...\n",
      "      voila 0.1.21 \u001b[32mOK\u001b[0m\n"
     ]
    }
   ],
   "source": [
    "# voila install. Run this once\n",
    "# !pip install voila\n",
    "# !jupyter serverextension enable voila --sys-prefix"
   ]
  },
  {
   "cell_type": "code",
   "execution_count": null,
   "metadata": {},
   "outputs": [],
   "source": [
    "path = Path()\n",
    "learn_inf = load_learner(path/'export.pkl', cpu=True)\n",
    "btn_upload = widgets.FileUpload()\n",
    "out_pl = widgets.Output()\n",
    "lbl_pred = widgets.Label()"
   ]
  },
  {
   "cell_type": "code",
   "execution_count": null,
   "metadata": {},
   "outputs": [],
   "source": [
    "def on_click_classify(change):\n",
    "    img = PILImage.create(btn_upload.data[-1])\n",
    "    out_pl.clear_output()\n",
    "    with out_pl: display(img.to_thumb(128,128))\n",
    "    pred,pred_idx,probs = learn_inf.predict(img)\n",
    "    lbl_pred.value = f'Prediction: {pred}; Probability: {probs[pred_idx]:.04f}'\n",
    "\n",
    "btn_run.on_click(on_click_classify)"
   ]
  },
  {
   "cell_type": "code",
   "execution_count": null,
   "metadata": {},
   "outputs": [],
   "source": [
    "btn_upload.observe(on_click_classify, names=['data'])"
   ]
  },
  {
   "cell_type": "code",
   "execution_count": null,
   "metadata": {},
   "outputs": [],
   "source": [
    "display(VBox([widgets.Label('Select your snowperson!'), \n",
    "      btn_upload, btn_run, out_pl, lbl_pred])"
   ]
  }
 ],
 "metadata": {
  "kernelspec": {
   "display_name": "Python 3",
   "language": "python",
   "name": "python3"
  },
  "language_info": {
   "codemirror_mode": {
    "name": "ipython",
    "version": 3
   },
   "file_extension": ".py",
   "mimetype": "text/x-python",
   "name": "python",
   "nbconvert_exporter": "python",
   "pygments_lexer": "ipython3",
   "version": "3.8.1"
  }
 },
 "nbformat": 4,
 "nbformat_minor": 4
}
